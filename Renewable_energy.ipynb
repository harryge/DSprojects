{
  "nbformat": 4,
  "nbformat_minor": 0,
  "metadata": {
    "colab": {
      "name": "vecm.ipynb",
      "provenance": [],
      "collapsed_sections": []
    },
    "kernelspec": {
      "name": "python3",
      "display_name": "Python 3"
    },
    "language_info": {
      "name": "python"
    }
  },
  "cells": [
    {
      "cell_type": "code",
      "source": [
        "import pandas as pd\n",
        "from datetime import datetime\n",
        "import numpy as np\n",
        "import matplotlib.pyplot as plt\n",
        "from sklearn.model_selection import train_test_split\n",
        "from statsmodels.tsa.vector_ar.vecm import coint_johansen\n",
        "from statsmodels.tsa.vector_ar.vecm import select_coint_rank\n",
        "from statsmodels.tsa.vector_ar.vecm import VECM\n",
        "from statsmodels.tsa.stattools import adfuller\n",
        "\n"
      ],
      "metadata": {
        "id": "nj8tYY4KCR1Y"
      },
      "execution_count": null,
      "outputs": []
    },
    {
      "cell_type": "code",
      "execution_count": null,
      "metadata": {
        "id": "VjDyGgoTCJ8N"
      },
      "outputs": [],
      "source": [
        "df = pd.read_csv('https://raw.githubusercontent.com/Alvin-igobwa/Amazon-project/main/Renewable%20energy%20vs%20Co2%20emissions.csv',index_col='Year')"
      ]
    },
    {
      "cell_type": "code",
      "source": [
        "df.head()"
      ],
      "metadata": {
        "id": "WjVhnGcgCY7S",
        "colab": {
          "base_uri": "https://localhost:8080/",
          "height": 238
        },
        "outputId": "343ebd93-72d9-4803-87d8-260fb5ff2dc6"
      },
      "execution_count": null,
      "outputs": [
        {
          "output_type": "execute_result",
          "data": {
            "text/html": [
              "\n",
              "  <div id=\"df-67843feb-6f21-4550-8983-24ccb1593df6\">\n",
              "    <div class=\"colab-df-container\">\n",
              "      <div>\n",
              "<style scoped>\n",
              "    .dataframe tbody tr th:only-of-type {\n",
              "        vertical-align: middle;\n",
              "    }\n",
              "\n",
              "    .dataframe tbody tr th {\n",
              "        vertical-align: top;\n",
              "    }\n",
              "\n",
              "    .dataframe thead th {\n",
              "        text-align: right;\n",
              "    }\n",
              "</style>\n",
              "<table border=\"1\" class=\"dataframe\">\n",
              "  <thead>\n",
              "    <tr style=\"text-align: right;\">\n",
              "      <th></th>\n",
              "      <th>Entity</th>\n",
              "      <th>Code</th>\n",
              "      <th>Renewables (% growth)</th>\n",
              "      <th>Annual CO2 emissions</th>\n",
              "    </tr>\n",
              "    <tr>\n",
              "      <th>Year</th>\n",
              "      <th></th>\n",
              "      <th></th>\n",
              "      <th></th>\n",
              "      <th></th>\n",
              "    </tr>\n",
              "  </thead>\n",
              "  <tbody>\n",
              "    <tr>\n",
              "      <th>1966</th>\n",
              "      <td>Africa</td>\n",
              "      <td>NaN</td>\n",
              "      <td>11.538</td>\n",
              "      <td>221261615</td>\n",
              "    </tr>\n",
              "    <tr>\n",
              "      <th>1967</th>\n",
              "      <td>Africa</td>\n",
              "      <td>NaN</td>\n",
              "      <td>4.388</td>\n",
              "      <td>237257662</td>\n",
              "    </tr>\n",
              "    <tr>\n",
              "      <th>1968</th>\n",
              "      <td>Africa</td>\n",
              "      <td>NaN</td>\n",
              "      <td>16.971</td>\n",
              "      <td>257600231</td>\n",
              "    </tr>\n",
              "    <tr>\n",
              "      <th>1969</th>\n",
              "      <td>Africa</td>\n",
              "      <td>NaN</td>\n",
              "      <td>16.699</td>\n",
              "      <td>278139487</td>\n",
              "    </tr>\n",
              "    <tr>\n",
              "      <th>1970</th>\n",
              "      <td>Africa</td>\n",
              "      <td>NaN</td>\n",
              "      <td>25.020</td>\n",
              "      <td>302942683</td>\n",
              "    </tr>\n",
              "  </tbody>\n",
              "</table>\n",
              "</div>\n",
              "      <button class=\"colab-df-convert\" onclick=\"convertToInteractive('df-67843feb-6f21-4550-8983-24ccb1593df6')\"\n",
              "              title=\"Convert this dataframe to an interactive table.\"\n",
              "              style=\"display:none;\">\n",
              "        \n",
              "  <svg xmlns=\"http://www.w3.org/2000/svg\" height=\"24px\"viewBox=\"0 0 24 24\"\n",
              "       width=\"24px\">\n",
              "    <path d=\"M0 0h24v24H0V0z\" fill=\"none\"/>\n",
              "    <path d=\"M18.56 5.44l.94 2.06.94-2.06 2.06-.94-2.06-.94-.94-2.06-.94 2.06-2.06.94zm-11 1L8.5 8.5l.94-2.06 2.06-.94-2.06-.94L8.5 2.5l-.94 2.06-2.06.94zm10 10l.94 2.06.94-2.06 2.06-.94-2.06-.94-.94-2.06-.94 2.06-2.06.94z\"/><path d=\"M17.41 7.96l-1.37-1.37c-.4-.4-.92-.59-1.43-.59-.52 0-1.04.2-1.43.59L10.3 9.45l-7.72 7.72c-.78.78-.78 2.05 0 2.83L4 21.41c.39.39.9.59 1.41.59.51 0 1.02-.2 1.41-.59l7.78-7.78 2.81-2.81c.8-.78.8-2.07 0-2.86zM5.41 20L4 18.59l7.72-7.72 1.47 1.35L5.41 20z\"/>\n",
              "  </svg>\n",
              "      </button>\n",
              "      \n",
              "  <style>\n",
              "    .colab-df-container {\n",
              "      display:flex;\n",
              "      flex-wrap:wrap;\n",
              "      gap: 12px;\n",
              "    }\n",
              "\n",
              "    .colab-df-convert {\n",
              "      background-color: #E8F0FE;\n",
              "      border: none;\n",
              "      border-radius: 50%;\n",
              "      cursor: pointer;\n",
              "      display: none;\n",
              "      fill: #1967D2;\n",
              "      height: 32px;\n",
              "      padding: 0 0 0 0;\n",
              "      width: 32px;\n",
              "    }\n",
              "\n",
              "    .colab-df-convert:hover {\n",
              "      background-color: #E2EBFA;\n",
              "      box-shadow: 0px 1px 2px rgba(60, 64, 67, 0.3), 0px 1px 3px 1px rgba(60, 64, 67, 0.15);\n",
              "      fill: #174EA6;\n",
              "    }\n",
              "\n",
              "    [theme=dark] .colab-df-convert {\n",
              "      background-color: #3B4455;\n",
              "      fill: #D2E3FC;\n",
              "    }\n",
              "\n",
              "    [theme=dark] .colab-df-convert:hover {\n",
              "      background-color: #434B5C;\n",
              "      box-shadow: 0px 1px 3px 1px rgba(0, 0, 0, 0.15);\n",
              "      filter: drop-shadow(0px 1px 2px rgba(0, 0, 0, 0.3));\n",
              "      fill: #FFFFFF;\n",
              "    }\n",
              "  </style>\n",
              "\n",
              "      <script>\n",
              "        const buttonEl =\n",
              "          document.querySelector('#df-67843feb-6f21-4550-8983-24ccb1593df6 button.colab-df-convert');\n",
              "        buttonEl.style.display =\n",
              "          google.colab.kernel.accessAllowed ? 'block' : 'none';\n",
              "\n",
              "        async function convertToInteractive(key) {\n",
              "          const element = document.querySelector('#df-67843feb-6f21-4550-8983-24ccb1593df6');\n",
              "          const dataTable =\n",
              "            await google.colab.kernel.invokeFunction('convertToInteractive',\n",
              "                                                     [key], {});\n",
              "          if (!dataTable) return;\n",
              "\n",
              "          const docLinkHtml = 'Like what you see? Visit the ' +\n",
              "            '<a target=\"_blank\" href=https://colab.research.google.com/notebooks/data_table.ipynb>data table notebook</a>'\n",
              "            + ' to learn more about interactive tables.';\n",
              "          element.innerHTML = '';\n",
              "          dataTable['output_type'] = 'display_data';\n",
              "          await google.colab.output.renderOutput(dataTable, element);\n",
              "          const docLink = document.createElement('div');\n",
              "          docLink.innerHTML = docLinkHtml;\n",
              "          element.appendChild(docLink);\n",
              "        }\n",
              "      </script>\n",
              "    </div>\n",
              "  </div>\n",
              "  "
            ],
            "text/plain": [
              "      Entity  Code  Renewables (% growth)  Annual CO2 emissions\n",
              "Year                                                           \n",
              "1966  Africa   NaN                 11.538             221261615\n",
              "1967  Africa   NaN                  4.388             237257662\n",
              "1968  Africa   NaN                 16.971             257600231\n",
              "1969  Africa   NaN                 16.699             278139487\n",
              "1970  Africa   NaN                 25.020             302942683"
            ]
          },
          "metadata": {},
          "execution_count": 4
        }
      ]
    },
    {
      "cell_type": "code",
      "source": [
        "df=df.drop(columns=['Entity','Code'])"
      ],
      "metadata": {
        "id": "4mq0afCXD_Gd"
      },
      "execution_count": null,
      "outputs": []
    },
    {
      "cell_type": "code",
      "source": [
        "df.head()"
      ],
      "metadata": {
        "colab": {
          "base_uri": "https://localhost:8080/",
          "height": 238
        },
        "id": "5kYmc5fIGBnj",
        "outputId": "4343fc1e-2e21-41b4-d4d4-a1a88492d15a"
      },
      "execution_count": null,
      "outputs": [
        {
          "output_type": "execute_result",
          "data": {
            "text/html": [
              "\n",
              "  <div id=\"df-c0aa4d02-918a-44e9-9945-c842271e1d6c\">\n",
              "    <div class=\"colab-df-container\">\n",
              "      <div>\n",
              "<style scoped>\n",
              "    .dataframe tbody tr th:only-of-type {\n",
              "        vertical-align: middle;\n",
              "    }\n",
              "\n",
              "    .dataframe tbody tr th {\n",
              "        vertical-align: top;\n",
              "    }\n",
              "\n",
              "    .dataframe thead th {\n",
              "        text-align: right;\n",
              "    }\n",
              "</style>\n",
              "<table border=\"1\" class=\"dataframe\">\n",
              "  <thead>\n",
              "    <tr style=\"text-align: right;\">\n",
              "      <th></th>\n",
              "      <th>Renewables (% growth)</th>\n",
              "      <th>Annual CO2 emissions</th>\n",
              "    </tr>\n",
              "    <tr>\n",
              "      <th>Year</th>\n",
              "      <th></th>\n",
              "      <th></th>\n",
              "    </tr>\n",
              "  </thead>\n",
              "  <tbody>\n",
              "    <tr>\n",
              "      <th>1966</th>\n",
              "      <td>11.538</td>\n",
              "      <td>221261615</td>\n",
              "    </tr>\n",
              "    <tr>\n",
              "      <th>1967</th>\n",
              "      <td>4.388</td>\n",
              "      <td>237257662</td>\n",
              "    </tr>\n",
              "    <tr>\n",
              "      <th>1968</th>\n",
              "      <td>16.971</td>\n",
              "      <td>257600231</td>\n",
              "    </tr>\n",
              "    <tr>\n",
              "      <th>1969</th>\n",
              "      <td>16.699</td>\n",
              "      <td>278139487</td>\n",
              "    </tr>\n",
              "    <tr>\n",
              "      <th>1970</th>\n",
              "      <td>25.020</td>\n",
              "      <td>302942683</td>\n",
              "    </tr>\n",
              "  </tbody>\n",
              "</table>\n",
              "</div>\n",
              "      <button class=\"colab-df-convert\" onclick=\"convertToInteractive('df-c0aa4d02-918a-44e9-9945-c842271e1d6c')\"\n",
              "              title=\"Convert this dataframe to an interactive table.\"\n",
              "              style=\"display:none;\">\n",
              "        \n",
              "  <svg xmlns=\"http://www.w3.org/2000/svg\" height=\"24px\"viewBox=\"0 0 24 24\"\n",
              "       width=\"24px\">\n",
              "    <path d=\"M0 0h24v24H0V0z\" fill=\"none\"/>\n",
              "    <path d=\"M18.56 5.44l.94 2.06.94-2.06 2.06-.94-2.06-.94-.94-2.06-.94 2.06-2.06.94zm-11 1L8.5 8.5l.94-2.06 2.06-.94-2.06-.94L8.5 2.5l-.94 2.06-2.06.94zm10 10l.94 2.06.94-2.06 2.06-.94-2.06-.94-.94-2.06-.94 2.06-2.06.94z\"/><path d=\"M17.41 7.96l-1.37-1.37c-.4-.4-.92-.59-1.43-.59-.52 0-1.04.2-1.43.59L10.3 9.45l-7.72 7.72c-.78.78-.78 2.05 0 2.83L4 21.41c.39.39.9.59 1.41.59.51 0 1.02-.2 1.41-.59l7.78-7.78 2.81-2.81c.8-.78.8-2.07 0-2.86zM5.41 20L4 18.59l7.72-7.72 1.47 1.35L5.41 20z\"/>\n",
              "  </svg>\n",
              "      </button>\n",
              "      \n",
              "  <style>\n",
              "    .colab-df-container {\n",
              "      display:flex;\n",
              "      flex-wrap:wrap;\n",
              "      gap: 12px;\n",
              "    }\n",
              "\n",
              "    .colab-df-convert {\n",
              "      background-color: #E8F0FE;\n",
              "      border: none;\n",
              "      border-radius: 50%;\n",
              "      cursor: pointer;\n",
              "      display: none;\n",
              "      fill: #1967D2;\n",
              "      height: 32px;\n",
              "      padding: 0 0 0 0;\n",
              "      width: 32px;\n",
              "    }\n",
              "\n",
              "    .colab-df-convert:hover {\n",
              "      background-color: #E2EBFA;\n",
              "      box-shadow: 0px 1px 2px rgba(60, 64, 67, 0.3), 0px 1px 3px 1px rgba(60, 64, 67, 0.15);\n",
              "      fill: #174EA6;\n",
              "    }\n",
              "\n",
              "    [theme=dark] .colab-df-convert {\n",
              "      background-color: #3B4455;\n",
              "      fill: #D2E3FC;\n",
              "    }\n",
              "\n",
              "    [theme=dark] .colab-df-convert:hover {\n",
              "      background-color: #434B5C;\n",
              "      box-shadow: 0px 1px 3px 1px rgba(0, 0, 0, 0.15);\n",
              "      filter: drop-shadow(0px 1px 2px rgba(0, 0, 0, 0.3));\n",
              "      fill: #FFFFFF;\n",
              "    }\n",
              "  </style>\n",
              "\n",
              "      <script>\n",
              "        const buttonEl =\n",
              "          document.querySelector('#df-c0aa4d02-918a-44e9-9945-c842271e1d6c button.colab-df-convert');\n",
              "        buttonEl.style.display =\n",
              "          google.colab.kernel.accessAllowed ? 'block' : 'none';\n",
              "\n",
              "        async function convertToInteractive(key) {\n",
              "          const element = document.querySelector('#df-c0aa4d02-918a-44e9-9945-c842271e1d6c');\n",
              "          const dataTable =\n",
              "            await google.colab.kernel.invokeFunction('convertToInteractive',\n",
              "                                                     [key], {});\n",
              "          if (!dataTable) return;\n",
              "\n",
              "          const docLinkHtml = 'Like what you see? Visit the ' +\n",
              "            '<a target=\"_blank\" href=https://colab.research.google.com/notebooks/data_table.ipynb>data table notebook</a>'\n",
              "            + ' to learn more about interactive tables.';\n",
              "          element.innerHTML = '';\n",
              "          dataTable['output_type'] = 'display_data';\n",
              "          await google.colab.output.renderOutput(dataTable, element);\n",
              "          const docLink = document.createElement('div');\n",
              "          docLink.innerHTML = docLinkHtml;\n",
              "          element.appendChild(docLink);\n",
              "        }\n",
              "      </script>\n",
              "    </div>\n",
              "  </div>\n",
              "  "
            ],
            "text/plain": [
              "      Renewables (% growth)  Annual CO2 emissions\n",
              "Year                                             \n",
              "1966                 11.538             221261615\n",
              "1967                  4.388             237257662\n",
              "1968                 16.971             257600231\n",
              "1969                 16.699             278139487\n",
              "1970                 25.020             302942683"
            ]
          },
          "metadata": {},
          "execution_count": 6
        }
      ]
    },
    {
      "cell_type": "code",
      "source": [
        "df['Annual CO2 emissions']=df['Annual CO2 emissions'].pct_change()*100"
      ],
      "metadata": {
        "id": "k9n8bPv3GKfq"
      },
      "execution_count": null,
      "outputs": []
    },
    {
      "cell_type": "code",
      "source": [
        "df.head()"
      ],
      "metadata": {
        "colab": {
          "base_uri": "https://localhost:8080/",
          "height": 238
        },
        "id": "m4oyG0khG6ij",
        "outputId": "4c7fc5d1-ab65-4bb7-ebb9-6458d63527b4"
      },
      "execution_count": null,
      "outputs": [
        {
          "output_type": "execute_result",
          "data": {
            "text/html": [
              "\n",
              "  <div id=\"df-1bf90bd8-5e4b-49da-bb2a-572ab36f25f0\">\n",
              "    <div class=\"colab-df-container\">\n",
              "      <div>\n",
              "<style scoped>\n",
              "    .dataframe tbody tr th:only-of-type {\n",
              "        vertical-align: middle;\n",
              "    }\n",
              "\n",
              "    .dataframe tbody tr th {\n",
              "        vertical-align: top;\n",
              "    }\n",
              "\n",
              "    .dataframe thead th {\n",
              "        text-align: right;\n",
              "    }\n",
              "</style>\n",
              "<table border=\"1\" class=\"dataframe\">\n",
              "  <thead>\n",
              "    <tr style=\"text-align: right;\">\n",
              "      <th></th>\n",
              "      <th>Renewables (% growth)</th>\n",
              "      <th>Annual CO2 emissions</th>\n",
              "    </tr>\n",
              "    <tr>\n",
              "      <th>Year</th>\n",
              "      <th></th>\n",
              "      <th></th>\n",
              "    </tr>\n",
              "  </thead>\n",
              "  <tbody>\n",
              "    <tr>\n",
              "      <th>1966</th>\n",
              "      <td>11.538</td>\n",
              "      <td>NaN</td>\n",
              "    </tr>\n",
              "    <tr>\n",
              "      <th>1967</th>\n",
              "      <td>4.388</td>\n",
              "      <td>7.229472</td>\n",
              "    </tr>\n",
              "    <tr>\n",
              "      <th>1968</th>\n",
              "      <td>16.971</td>\n",
              "      <td>8.574041</td>\n",
              "    </tr>\n",
              "    <tr>\n",
              "      <th>1969</th>\n",
              "      <td>16.699</td>\n",
              "      <td>7.973307</td>\n",
              "    </tr>\n",
              "    <tr>\n",
              "      <th>1970</th>\n",
              "      <td>25.020</td>\n",
              "      <td>8.917539</td>\n",
              "    </tr>\n",
              "  </tbody>\n",
              "</table>\n",
              "</div>\n",
              "      <button class=\"colab-df-convert\" onclick=\"convertToInteractive('df-1bf90bd8-5e4b-49da-bb2a-572ab36f25f0')\"\n",
              "              title=\"Convert this dataframe to an interactive table.\"\n",
              "              style=\"display:none;\">\n",
              "        \n",
              "  <svg xmlns=\"http://www.w3.org/2000/svg\" height=\"24px\"viewBox=\"0 0 24 24\"\n",
              "       width=\"24px\">\n",
              "    <path d=\"M0 0h24v24H0V0z\" fill=\"none\"/>\n",
              "    <path d=\"M18.56 5.44l.94 2.06.94-2.06 2.06-.94-2.06-.94-.94-2.06-.94 2.06-2.06.94zm-11 1L8.5 8.5l.94-2.06 2.06-.94-2.06-.94L8.5 2.5l-.94 2.06-2.06.94zm10 10l.94 2.06.94-2.06 2.06-.94-2.06-.94-.94-2.06-.94 2.06-2.06.94z\"/><path d=\"M17.41 7.96l-1.37-1.37c-.4-.4-.92-.59-1.43-.59-.52 0-1.04.2-1.43.59L10.3 9.45l-7.72 7.72c-.78.78-.78 2.05 0 2.83L4 21.41c.39.39.9.59 1.41.59.51 0 1.02-.2 1.41-.59l7.78-7.78 2.81-2.81c.8-.78.8-2.07 0-2.86zM5.41 20L4 18.59l7.72-7.72 1.47 1.35L5.41 20z\"/>\n",
              "  </svg>\n",
              "      </button>\n",
              "      \n",
              "  <style>\n",
              "    .colab-df-container {\n",
              "      display:flex;\n",
              "      flex-wrap:wrap;\n",
              "      gap: 12px;\n",
              "    }\n",
              "\n",
              "    .colab-df-convert {\n",
              "      background-color: #E8F0FE;\n",
              "      border: none;\n",
              "      border-radius: 50%;\n",
              "      cursor: pointer;\n",
              "      display: none;\n",
              "      fill: #1967D2;\n",
              "      height: 32px;\n",
              "      padding: 0 0 0 0;\n",
              "      width: 32px;\n",
              "    }\n",
              "\n",
              "    .colab-df-convert:hover {\n",
              "      background-color: #E2EBFA;\n",
              "      box-shadow: 0px 1px 2px rgba(60, 64, 67, 0.3), 0px 1px 3px 1px rgba(60, 64, 67, 0.15);\n",
              "      fill: #174EA6;\n",
              "    }\n",
              "\n",
              "    [theme=dark] .colab-df-convert {\n",
              "      background-color: #3B4455;\n",
              "      fill: #D2E3FC;\n",
              "    }\n",
              "\n",
              "    [theme=dark] .colab-df-convert:hover {\n",
              "      background-color: #434B5C;\n",
              "      box-shadow: 0px 1px 3px 1px rgba(0, 0, 0, 0.15);\n",
              "      filter: drop-shadow(0px 1px 2px rgba(0, 0, 0, 0.3));\n",
              "      fill: #FFFFFF;\n",
              "    }\n",
              "  </style>\n",
              "\n",
              "      <script>\n",
              "        const buttonEl =\n",
              "          document.querySelector('#df-1bf90bd8-5e4b-49da-bb2a-572ab36f25f0 button.colab-df-convert');\n",
              "        buttonEl.style.display =\n",
              "          google.colab.kernel.accessAllowed ? 'block' : 'none';\n",
              "\n",
              "        async function convertToInteractive(key) {\n",
              "          const element = document.querySelector('#df-1bf90bd8-5e4b-49da-bb2a-572ab36f25f0');\n",
              "          const dataTable =\n",
              "            await google.colab.kernel.invokeFunction('convertToInteractive',\n",
              "                                                     [key], {});\n",
              "          if (!dataTable) return;\n",
              "\n",
              "          const docLinkHtml = 'Like what you see? Visit the ' +\n",
              "            '<a target=\"_blank\" href=https://colab.research.google.com/notebooks/data_table.ipynb>data table notebook</a>'\n",
              "            + ' to learn more about interactive tables.';\n",
              "          element.innerHTML = '';\n",
              "          dataTable['output_type'] = 'display_data';\n",
              "          await google.colab.output.renderOutput(dataTable, element);\n",
              "          const docLink = document.createElement('div');\n",
              "          docLink.innerHTML = docLinkHtml;\n",
              "          element.appendChild(docLink);\n",
              "        }\n",
              "      </script>\n",
              "    </div>\n",
              "  </div>\n",
              "  "
            ],
            "text/plain": [
              "      Renewables (% growth)  Annual CO2 emissions\n",
              "Year                                             \n",
              "1966                 11.538                   NaN\n",
              "1967                  4.388              7.229472\n",
              "1968                 16.971              8.574041\n",
              "1969                 16.699              7.973307\n",
              "1970                 25.020              8.917539"
            ]
          },
          "metadata": {},
          "execution_count": 8
        }
      ]
    },
    {
      "cell_type": "code",
      "source": [
        "df.shape"
      ],
      "metadata": {
        "colab": {
          "base_uri": "https://localhost:8080/"
        },
        "id": "vyARgsZsNGvf",
        "outputId": "4b132558-c478-4fae-9392-a4b3a76e6e1b"
      },
      "execution_count": null,
      "outputs": [
        {
          "output_type": "execute_result",
          "data": {
            "text/plain": [
              "(54, 2)"
            ]
          },
          "metadata": {},
          "execution_count": 9
        }
      ]
    },
    {
      "cell_type": "code",
      "source": [
        "df.describe()"
      ],
      "metadata": {
        "colab": {
          "base_uri": "https://localhost:8080/",
          "height": 300
        },
        "id": "T87uERzdH4Ia",
        "outputId": "535faa72-e485-4f1b-e49d-0f4312329553"
      },
      "execution_count": null,
      "outputs": [
        {
          "output_type": "execute_result",
          "data": {
            "text/html": [
              "\n",
              "  <div id=\"df-9b8a0d59-f2c9-46f7-8311-1b9000a232fa\">\n",
              "    <div class=\"colab-df-container\">\n",
              "      <div>\n",
              "<style scoped>\n",
              "    .dataframe tbody tr th:only-of-type {\n",
              "        vertical-align: middle;\n",
              "    }\n",
              "\n",
              "    .dataframe tbody tr th {\n",
              "        vertical-align: top;\n",
              "    }\n",
              "\n",
              "    .dataframe thead th {\n",
              "        text-align: right;\n",
              "    }\n",
              "</style>\n",
              "<table border=\"1\" class=\"dataframe\">\n",
              "  <thead>\n",
              "    <tr style=\"text-align: right;\">\n",
              "      <th></th>\n",
              "      <th>Renewables (% growth)</th>\n",
              "      <th>Annual CO2 emissions</th>\n",
              "    </tr>\n",
              "  </thead>\n",
              "  <tbody>\n",
              "    <tr>\n",
              "      <th>count</th>\n",
              "      <td>54.000000</td>\n",
              "      <td>53.000000</td>\n",
              "    </tr>\n",
              "    <tr>\n",
              "      <th>mean</th>\n",
              "      <td>4.781889</td>\n",
              "      <td>3.618049</td>\n",
              "    </tr>\n",
              "    <tr>\n",
              "      <th>std</th>\n",
              "      <td>6.040282</td>\n",
              "      <td>3.662934</td>\n",
              "    </tr>\n",
              "    <tr>\n",
              "      <th>min</th>\n",
              "      <td>-9.843000</td>\n",
              "      <td>-5.710124</td>\n",
              "    </tr>\n",
              "    <tr>\n",
              "      <th>25%</th>\n",
              "      <td>1.479500</td>\n",
              "      <td>1.458579</td>\n",
              "    </tr>\n",
              "    <tr>\n",
              "      <th>50%</th>\n",
              "      <td>4.524000</td>\n",
              "      <td>3.340298</td>\n",
              "    </tr>\n",
              "    <tr>\n",
              "      <th>75%</th>\n",
              "      <td>7.294250</td>\n",
              "      <td>7.182016</td>\n",
              "    </tr>\n",
              "    <tr>\n",
              "      <th>max</th>\n",
              "      <td>25.020000</td>\n",
              "      <td>9.659532</td>\n",
              "    </tr>\n",
              "  </tbody>\n",
              "</table>\n",
              "</div>\n",
              "      <button class=\"colab-df-convert\" onclick=\"convertToInteractive('df-9b8a0d59-f2c9-46f7-8311-1b9000a232fa')\"\n",
              "              title=\"Convert this dataframe to an interactive table.\"\n",
              "              style=\"display:none;\">\n",
              "        \n",
              "  <svg xmlns=\"http://www.w3.org/2000/svg\" height=\"24px\"viewBox=\"0 0 24 24\"\n",
              "       width=\"24px\">\n",
              "    <path d=\"M0 0h24v24H0V0z\" fill=\"none\"/>\n",
              "    <path d=\"M18.56 5.44l.94 2.06.94-2.06 2.06-.94-2.06-.94-.94-2.06-.94 2.06-2.06.94zm-11 1L8.5 8.5l.94-2.06 2.06-.94-2.06-.94L8.5 2.5l-.94 2.06-2.06.94zm10 10l.94 2.06.94-2.06 2.06-.94-2.06-.94-.94-2.06-.94 2.06-2.06.94z\"/><path d=\"M17.41 7.96l-1.37-1.37c-.4-.4-.92-.59-1.43-.59-.52 0-1.04.2-1.43.59L10.3 9.45l-7.72 7.72c-.78.78-.78 2.05 0 2.83L4 21.41c.39.39.9.59 1.41.59.51 0 1.02-.2 1.41-.59l7.78-7.78 2.81-2.81c.8-.78.8-2.07 0-2.86zM5.41 20L4 18.59l7.72-7.72 1.47 1.35L5.41 20z\"/>\n",
              "  </svg>\n",
              "      </button>\n",
              "      \n",
              "  <style>\n",
              "    .colab-df-container {\n",
              "      display:flex;\n",
              "      flex-wrap:wrap;\n",
              "      gap: 12px;\n",
              "    }\n",
              "\n",
              "    .colab-df-convert {\n",
              "      background-color: #E8F0FE;\n",
              "      border: none;\n",
              "      border-radius: 50%;\n",
              "      cursor: pointer;\n",
              "      display: none;\n",
              "      fill: #1967D2;\n",
              "      height: 32px;\n",
              "      padding: 0 0 0 0;\n",
              "      width: 32px;\n",
              "    }\n",
              "\n",
              "    .colab-df-convert:hover {\n",
              "      background-color: #E2EBFA;\n",
              "      box-shadow: 0px 1px 2px rgba(60, 64, 67, 0.3), 0px 1px 3px 1px rgba(60, 64, 67, 0.15);\n",
              "      fill: #174EA6;\n",
              "    }\n",
              "\n",
              "    [theme=dark] .colab-df-convert {\n",
              "      background-color: #3B4455;\n",
              "      fill: #D2E3FC;\n",
              "    }\n",
              "\n",
              "    [theme=dark] .colab-df-convert:hover {\n",
              "      background-color: #434B5C;\n",
              "      box-shadow: 0px 1px 3px 1px rgba(0, 0, 0, 0.15);\n",
              "      filter: drop-shadow(0px 1px 2px rgba(0, 0, 0, 0.3));\n",
              "      fill: #FFFFFF;\n",
              "    }\n",
              "  </style>\n",
              "\n",
              "      <script>\n",
              "        const buttonEl =\n",
              "          document.querySelector('#df-9b8a0d59-f2c9-46f7-8311-1b9000a232fa button.colab-df-convert');\n",
              "        buttonEl.style.display =\n",
              "          google.colab.kernel.accessAllowed ? 'block' : 'none';\n",
              "\n",
              "        async function convertToInteractive(key) {\n",
              "          const element = document.querySelector('#df-9b8a0d59-f2c9-46f7-8311-1b9000a232fa');\n",
              "          const dataTable =\n",
              "            await google.colab.kernel.invokeFunction('convertToInteractive',\n",
              "                                                     [key], {});\n",
              "          if (!dataTable) return;\n",
              "\n",
              "          const docLinkHtml = 'Like what you see? Visit the ' +\n",
              "            '<a target=\"_blank\" href=https://colab.research.google.com/notebooks/data_table.ipynb>data table notebook</a>'\n",
              "            + ' to learn more about interactive tables.';\n",
              "          element.innerHTML = '';\n",
              "          dataTable['output_type'] = 'display_data';\n",
              "          await google.colab.output.renderOutput(dataTable, element);\n",
              "          const docLink = document.createElement('div');\n",
              "          docLink.innerHTML = docLinkHtml;\n",
              "          element.appendChild(docLink);\n",
              "        }\n",
              "      </script>\n",
              "    </div>\n",
              "  </div>\n",
              "  "
            ],
            "text/plain": [
              "       Renewables (% growth)  Annual CO2 emissions\n",
              "count              54.000000             53.000000\n",
              "mean                4.781889              3.618049\n",
              "std                 6.040282              3.662934\n",
              "min                -9.843000             -5.710124\n",
              "25%                 1.479500              1.458579\n",
              "50%                 4.524000              3.340298\n",
              "75%                 7.294250              7.182016\n",
              "max                25.020000              9.659532"
            ]
          },
          "metadata": {},
          "execution_count": 10
        }
      ]
    },
    {
      "cell_type": "code",
      "source": [
        "df.isnull().sum()"
      ],
      "metadata": {
        "colab": {
          "base_uri": "https://localhost:8080/"
        },
        "id": "tQUQtUqTIALB",
        "outputId": "05730108-645d-461e-8d55-ae33be79d591"
      },
      "execution_count": null,
      "outputs": [
        {
          "output_type": "execute_result",
          "data": {
            "text/plain": [
              "Renewables (% growth)    0\n",
              "Annual CO2 emissions     1\n",
              "dtype: int64"
            ]
          },
          "metadata": {},
          "execution_count": 11
        }
      ]
    },
    {
      "cell_type": "code",
      "source": [
        "df.plot()"
      ],
      "metadata": {
        "colab": {
          "base_uri": "https://localhost:8080/",
          "height": 296
        },
        "id": "2O42-CI9IGva",
        "outputId": "8b0c2fc1-5ca6-4756-be69-c17a98263242"
      },
      "execution_count": null,
      "outputs": [
        {
          "output_type": "execute_result",
          "data": {
            "text/plain": [
              "<matplotlib.axes._subplots.AxesSubplot at 0x7efd91192510>"
            ]
          },
          "metadata": {},
          "execution_count": 12
        },
        {
          "output_type": "display_data",
          "data": {
            "image/png": "[encoded data removed]",
            "text/plain": [
              "<Figure size 432x288 with 1 Axes>"
            ]
          },
          "metadata": {
            "needs_background": "light"
          }
        }
      ]
    },
    {
      "cell_type": "code",
      "source": [
        "# differencing the dataset to make it stationary\n",
        "df=df.diff()\n",
        "plt.plot(df)\n",
        "plt.show()"
      ],
      "metadata": {
        "colab": {
          "base_uri": "https://localhost:8080/",
          "height": 265
        },
        "id": "cMa40toVe5qH",
        "outputId": "48caef3e-0827-45d8-c543-ea0824a070c6"
      },
      "execution_count": null,
      "outputs": [
        {
          "output_type": "display_data",
          "data": {
            "image/png": "[encoded data removed]",
            "text/plain": [
              "<Figure size 432x288 with 1 Axes>"
            ]
          },
          "metadata": {
            "needs_background": "light"
          }
        }
      ]
    },
    {
      "cell_type": "code",
      "source": [
        "plt.scatter(x='Renewables (% growth)',y='Annual CO2 emissions',data=df)"
      ],
      "metadata": {
        "colab": {
          "base_uri": "https://localhost:8080/",
          "height": 282
        },
        "id": "9L066fESI_EU",
        "outputId": "74ed0c00-4eb5-4b2b-f703-2a3587fcf022"
      },
      "execution_count": null,
      "outputs": [
        {
          "output_type": "execute_result",
          "data": {
            "text/plain": [
              "<matplotlib.collections.PathCollection at 0x7efd6813bfd0>"
            ]
          },
          "metadata": {},
          "execution_count": 12
        },
        {
          "output_type": "display_data",
          "data": {
            "image/png": "[encoded data removed]",
            "text/plain": [
              "<Figure size 432x288 with 1 Axes>"
            ]
          },
          "metadata": {
            "needs_background": "light"
          }
        }
      ]
    },
    {
      "cell_type": "code",
      "source": [
        "df.dropna(inplace=True)"
      ],
      "metadata": {
        "id": "BwIAUZm_okbW"
      },
      "execution_count": null,
      "outputs": []
    },
    {
      "cell_type": "code",
      "source": [
        "adfuller(df)"
      ],
      "metadata": {
        "colab": {
          "base_uri": "https://localhost:8080/"
        },
        "id": "ORXxTl0ipQ52",
        "outputId": "6923847f-4f81-4fd5-e642-5a78f9d22f73"
      },
      "execution_count": null,
      "outputs": [
        {
          "output_type": "execute_result",
          "data": {
            "text/plain": [
              "(-10.735025701284558,\n",
              " 2.9138782513090895e-19,\n",
              " 10,\n",
              " 36,\n",
              " {'1%': -3.626651907578875,\n",
              "  '10%': -2.6116707716049383,\n",
              "  '5%': -2.9459512825788754},\n",
              " 291.3788868828653)"
            ]
          },
          "metadata": {},
          "execution_count": 47
        }
      ]
    },
    {
      "cell_type": "markdown",
      "source": [
        "# VCM"
      ],
      "metadata": {
        "id": "-otid4xwKInj"
      }
    },
    {
      "cell_type": "code",
      "source": [
        "# splitting the data into training and test dataset\n",
        "X_train,X_test=train_test_split(df,test_size=0.2)"
      ],
      "metadata": {
        "id": "lS2cOq0oKNuf"
      },
      "execution_count": null,
      "outputs": []
    },
    {
      "cell_type": "code",
      "source": [
        "\n",
        "print(X_train.shape)"
      ],
      "metadata": {
        "colab": {
          "base_uri": "https://localhost:8080/"
        },
        "id": "envcgi41P0pX",
        "outputId": "c9793601-566d-4cff-9eaa-831a5b8c661f"
      },
      "execution_count": null,
      "outputs": [
        {
          "output_type": "stream",
          "name": "stdout",
          "text": [
            "(37,)\n"
          ]
        }
      ]
    },
    {
      "cell_type": "code",
      "source": [
        "print(X_test.shape)"
      ],
      "metadata": {
        "colab": {
          "base_uri": "https://localhost:8080/"
        },
        "id": "s0zGpivRQGpv",
        "outputId": "6a15239b-2483-42f1-8617-5a5ec3197a26"
      },
      "execution_count": null,
      "outputs": [
        {
          "output_type": "stream",
          "name": "stdout",
          "text": [
            "(10,)\n"
          ]
        }
      ]
    },
    {
      "cell_type": "code",
      "source": [
        "#checking for johansen cointegration\n",
        "rank_test=select_coint_rank(X_train,det_order=1,k_ar_diff=1,method='trace',signif=0.01)\n",
        "rank_test.rank\n",
        "print(rank_test.summary())\n"
      ],
      "metadata": {
        "id": "uVA_8ajuQNZ0"
      },
      "execution_count": null,
      "outputs": []
    },
    {
      "cell_type": "code",
      "source": [
        "rank_test2=select_coint_rank(X_test.dropna(),det_order=1,k_ar_diff=1,method='maxeig',signif=0.01)\n",
        "rank_test2.rank\n",
        "print(rank_test2.summary())"
      ],
      "metadata": {
        "colab": {
          "base_uri": "https://localhost:8080/"
        },
        "id": "pjkM1YyEfSpz",
        "outputId": "99570145-47f8-4d84-abfc-8992322fc96f"
      },
      "execution_count": null,
      "outputs": [
        {
          "output_type": "stream",
          "name": "stdout",
          "text": [
            "Johansen cointegration test using maximum eigenvalue test statistic with 1% significance level\n",
            "=====================================\n",
            "r_0 r_1 test statistic critical value\n",
            "-------------------------------------\n",
            "  0   1          9.765          21.75\n",
            "-------------------------------------\n"
          ]
        }
      ]
    },
    {
      "cell_type": "code",
      "source": [
        "#vecm estimation\n",
        "vecm = VECM(endog = X_train, k_ar_diff = 9, coint_rank = 3, deterministic = 'ci')\n",
        "vecm_fit = vecm.fit()\n",
        "vecm_fit.predict(steps=10)"
      ],
      "metadata": {
        "colab": {
          "base_uri": "https://localhost:8080/"
        },
        "id": "hfQn1R-IY-8E",
        "outputId": "c279d06d-f625-4c6b-ccb8-a82ba21780b2"
      },
      "execution_count": null,
      "outputs": [
        {
          "output_type": "stream",
          "name": "stderr",
          "text": [
            "/usr/local/lib/python3.7/dist-packages/statsmodels/tsa/base/tsa_model.py:215: ValueWarning: An unsupported index was provided and will be ignored when e.g. forecasting.\n",
            "  ' ignored when e.g. forecasting.', ValueWarning)\n"
          ]
        },
        {
          "output_type": "execute_result",
          "data": {
            "text/plain": [
              "array([[ -6.03944308,   4.38589294],\n",
              "       [ -5.79474788,   0.94367394],\n",
              "       [ 18.01568965,  10.09783771],\n",
              "       [  9.4403876 ,   3.60155178],\n",
              "       [  9.4596825 ,   4.1300136 ],\n",
              "       [ 12.04914108,   5.27179341],\n",
              "       [  1.08093017,   0.37332992],\n",
              "       [  7.39098828,   2.31576534],\n",
              "       [  8.87276859,   6.02651769],\n",
              "       [-11.86631519,   1.35344981]])"
            ]
          },
          "metadata": {},
          "execution_count": 59
        }
      ]
    },
    {
      "cell_type": "code",
      "source": [
        "vecm_res=vecm.fit()"
      ],
      "metadata": {
        "id": "B5tsvElTkNpC"
      },
      "execution_count": null,
      "outputs": []
    },
    {
      "cell_type": "code",
      "source": [
        "vecm_res.summary()"
      ],
      "metadata": {
        "colab": {
          "base_uri": "https://localhost:8080/",
          "height": 1000
        },
        "id": "g0iix09Pkeup",
        "outputId": "208aca8f-9561-4743-9a34-3475a96ad7b7"
      },
      "execution_count": null,
      "outputs": [
        {
          "output_type": "execute_result",
          "data": {
            "text/html": [
              "<table class=\"simpletable\">\n",
              "<caption>Det. terms outside the coint. relation & lagged endog. parameters for equation Renewables (% growth)</caption>\n",
              "<tr>\n",
              "              <td></td>                <th>coef</th>     <th>std err</th>      <th>z</th>      <th>P>|z|</th>  <th>[0.025</th>    <th>0.975]</th>  \n",
              "</tr>\n",
              "<tr>\n",
              "  <th>L1.Renewables (% growth)</th> <td>    2.3452</td> <td>    0.959</td> <td>    2.447</td> <td> 0.014</td> <td>    0.466</td> <td>    4.224</td>\n",
              "</tr>\n",
              "<tr>\n",
              "  <th>L1.Annual CO2 emissions</th>  <td>    0.5712</td> <td>    1.118</td> <td>    0.511</td> <td> 0.609</td> <td>   -1.621</td> <td>    2.763</td>\n",
              "</tr>\n",
              "<tr>\n",
              "  <th>L2.Renewables (% growth)</th> <td>    1.8479</td> <td>    0.860</td> <td>    2.148</td> <td> 0.032</td> <td>    0.162</td> <td>    3.534</td>\n",
              "</tr>\n",
              "<tr>\n",
              "  <th>L2.Annual CO2 emissions</th>  <td>    0.7730</td> <td>    1.048</td> <td>    0.737</td> <td> 0.461</td> <td>   -1.282</td> <td>    2.828</td>\n",
              "</tr>\n",
              "<tr>\n",
              "  <th>L3.Renewables (% growth)</th> <td>    1.5432</td> <td>    0.738</td> <td>    2.090</td> <td> 0.037</td> <td>    0.096</td> <td>    2.990</td>\n",
              "</tr>\n",
              "<tr>\n",
              "  <th>L3.Annual CO2 emissions</th>  <td>    1.0617</td> <td>    0.995</td> <td>    1.067</td> <td> 0.286</td> <td>   -0.888</td> <td>    3.011</td>\n",
              "</tr>\n",
              "<tr>\n",
              "  <th>L4.Renewables (% growth)</th> <td>    1.2874</td> <td>    0.641</td> <td>    2.007</td> <td> 0.045</td> <td>    0.030</td> <td>    2.544</td>\n",
              "</tr>\n",
              "<tr>\n",
              "  <th>L4.Annual CO2 emissions</th>  <td>    1.4236</td> <td>    0.894</td> <td>    1.593</td> <td> 0.111</td> <td>   -0.328</td> <td>    3.175</td>\n",
              "</tr>\n",
              "<tr>\n",
              "  <th>L5.Renewables (% growth)</th> <td>    0.9411</td> <td>    0.558</td> <td>    1.687</td> <td> 0.092</td> <td>   -0.152</td> <td>    2.035</td>\n",
              "</tr>\n",
              "<tr>\n",
              "  <th>L5.Annual CO2 emissions</th>  <td>    1.6944</td> <td>    0.826</td> <td>    2.051</td> <td> 0.040</td> <td>    0.075</td> <td>    3.314</td>\n",
              "</tr>\n",
              "<tr>\n",
              "  <th>L6.Renewables (% growth)</th> <td>    0.7788</td> <td>    0.471</td> <td>    1.653</td> <td> 0.098</td> <td>   -0.145</td> <td>    1.702</td>\n",
              "</tr>\n",
              "<tr>\n",
              "  <th>L6.Annual CO2 emissions</th>  <td>    1.3535</td> <td>    0.721</td> <td>    1.876</td> <td> 0.061</td> <td>   -0.060</td> <td>    2.767</td>\n",
              "</tr>\n",
              "<tr>\n",
              "  <th>L7.Renewables (% growth)</th> <td>    0.3628</td> <td>    0.379</td> <td>    0.956</td> <td> 0.339</td> <td>   -0.381</td> <td>    1.106</td>\n",
              "</tr>\n",
              "<tr>\n",
              "  <th>L7.Annual CO2 emissions</th>  <td>    0.7037</td> <td>    0.619</td> <td>    1.138</td> <td> 0.255</td> <td>   -0.509</td> <td>    1.916</td>\n",
              "</tr>\n",
              "<tr>\n",
              "  <th>L8.Renewables (% growth)</th> <td>    0.2337</td> <td>    0.263</td> <td>    0.889</td> <td> 0.374</td> <td>   -0.282</td> <td>    0.749</td>\n",
              "</tr>\n",
              "<tr>\n",
              "  <th>L8.Annual CO2 emissions</th>  <td>    0.7490</td> <td>    0.484</td> <td>    1.548</td> <td> 0.122</td> <td>   -0.199</td> <td>    1.697</td>\n",
              "</tr>\n",
              "<tr>\n",
              "  <th>L9.Renewables (% growth)</th> <td>    0.0684</td> <td>    0.182</td> <td>    0.375</td> <td> 0.708</td> <td>   -0.289</td> <td>    0.426</td>\n",
              "</tr>\n",
              "<tr>\n",
              "  <th>L9.Annual CO2 emissions</th>  <td>    0.6489</td> <td>    0.345</td> <td>    1.878</td> <td> 0.060</td> <td>   -0.028</td> <td>    1.326</td>\n",
              "</tr>\n",
              "</table>\n",
              "<table class=\"simpletable\">\n",
              "<caption>Det. terms outside the coint. relation & lagged endog. parameters for equation Annual CO2 emissions</caption>\n",
              "<tr>\n",
              "              <td></td>                <th>coef</th>     <th>std err</th>      <th>z</th>      <th>P>|z|</th>  <th>[0.025</th>    <th>0.975]</th>  \n",
              "</tr>\n",
              "<tr>\n",
              "  <th>L1.Renewables (% growth)</th> <td>    0.1722</td> <td>    0.662</td> <td>    0.260</td> <td> 0.795</td> <td>   -1.125</td> <td>    1.470</td>\n",
              "</tr>\n",
              "<tr>\n",
              "  <th>L1.Annual CO2 emissions</th>  <td>    0.0224</td> <td>    0.772</td> <td>    0.029</td> <td> 0.977</td> <td>   -1.491</td> <td>    1.536</td>\n",
              "</tr>\n",
              "<tr>\n",
              "  <th>L2.Renewables (% growth)</th> <td>    0.1327</td> <td>    0.594</td> <td>    0.223</td> <td> 0.823</td> <td>   -1.032</td> <td>    1.297</td>\n",
              "</tr>\n",
              "<tr>\n",
              "  <th>L2.Annual CO2 emissions</th>  <td>    0.0357</td> <td>    0.724</td> <td>    0.049</td> <td> 0.961</td> <td>   -1.383</td> <td>    1.455</td>\n",
              "</tr>\n",
              "<tr>\n",
              "  <th>L3.Renewables (% growth)</th> <td>    0.0680</td> <td>    0.510</td> <td>    0.133</td> <td> 0.894</td> <td>   -0.931</td> <td>    1.067</td>\n",
              "</tr>\n",
              "<tr>\n",
              "  <th>L3.Annual CO2 emissions</th>  <td>    0.2634</td> <td>    0.687</td> <td>    0.383</td> <td> 0.701</td> <td>   -1.083</td> <td>    1.610</td>\n",
              "</tr>\n",
              "<tr>\n",
              "  <th>L4.Renewables (% growth)</th> <td>   -0.0404</td> <td>    0.443</td> <td>   -0.091</td> <td> 0.927</td> <td>   -0.908</td> <td>    0.828</td>\n",
              "</tr>\n",
              "<tr>\n",
              "  <th>L4.Annual CO2 emissions</th>  <td>   -0.0058</td> <td>    0.617</td> <td>   -0.009</td> <td> 0.993</td> <td>   -1.215</td> <td>    1.204</td>\n",
              "</tr>\n",
              "<tr>\n",
              "  <th>L5.Renewables (% growth)</th> <td>   -0.0534</td> <td>    0.385</td> <td>   -0.139</td> <td> 0.890</td> <td>   -0.809</td> <td>    0.702</td>\n",
              "</tr>\n",
              "<tr>\n",
              "  <th>L5.Annual CO2 emissions</th>  <td>    0.0152</td> <td>    0.571</td> <td>    0.027</td> <td> 0.979</td> <td>   -1.103</td> <td>    1.133</td>\n",
              "</tr>\n",
              "<tr>\n",
              "  <th>L6.Renewables (% growth)</th> <td>    0.0191</td> <td>    0.325</td> <td>    0.059</td> <td> 0.953</td> <td>   -0.619</td> <td>    0.657</td>\n",
              "</tr>\n",
              "<tr>\n",
              "  <th>L6.Annual CO2 emissions</th>  <td>   -0.1042</td> <td>    0.498</td> <td>   -0.209</td> <td> 0.834</td> <td>   -1.081</td> <td>    0.872</td>\n",
              "</tr>\n",
              "<tr>\n",
              "  <th>L7.Renewables (% growth)</th> <td>   -0.0043</td> <td>    0.262</td> <td>   -0.017</td> <td> 0.987</td> <td>   -0.518</td> <td>    0.509</td>\n",
              "</tr>\n",
              "<tr>\n",
              "  <th>L7.Annual CO2 emissions</th>  <td>   -0.0040</td> <td>    0.427</td> <td>   -0.009</td> <td> 0.992</td> <td>   -0.841</td> <td>    0.833</td>\n",
              "</tr>\n",
              "<tr>\n",
              "  <th>L8.Renewables (% growth)</th> <td>    0.0497</td> <td>    0.182</td> <td>    0.274</td> <td> 0.784</td> <td>   -0.306</td> <td>    0.406</td>\n",
              "</tr>\n",
              "<tr>\n",
              "  <th>L8.Annual CO2 emissions</th>  <td>   -0.0216</td> <td>    0.334</td> <td>   -0.065</td> <td> 0.948</td> <td>   -0.676</td> <td>    0.633</td>\n",
              "</tr>\n",
              "<tr>\n",
              "  <th>L9.Renewables (% growth)</th> <td>    0.0564</td> <td>    0.126</td> <td>    0.448</td> <td> 0.654</td> <td>   -0.190</td> <td>    0.303</td>\n",
              "</tr>\n",
              "<tr>\n",
              "  <th>L9.Annual CO2 emissions</th>  <td>    0.1734</td> <td>    0.239</td> <td>    0.727</td> <td> 0.467</td> <td>   -0.294</td> <td>    0.641</td>\n",
              "</tr>\n",
              "</table>\n",
              "<table class=\"simpletable\">\n",
              "<caption>Loading coefficients (alpha) for equation Renewables (% growth)</caption>\n",
              "<tr>\n",
              "   <td></td>      <th>coef</th>     <th>std err</th>      <th>z</th>      <th>P>|z|</th>  <th>[0.025</th>    <th>0.975]</th>  \n",
              "</tr>\n",
              "<tr>\n",
              "  <th>ec1</th> <td>   -3.5426</td> <td>    1.040</td> <td>   -3.405</td> <td> 0.001</td> <td>   -5.582</td> <td>   -1.503</td>\n",
              "</tr>\n",
              "<tr>\n",
              "  <th>ec2</th> <td>   -0.6909</td> <td>    1.123</td> <td>   -0.615</td> <td> 0.538</td> <td>   -2.892</td> <td>    1.510</td>\n",
              "</tr>\n",
              "<tr>\n",
              "  <th>ec3</th> <td>   19.0990</td> <td>    6.169</td> <td>    3.096</td> <td> 0.002</td> <td>    7.009</td> <td>   31.189</td>\n",
              "</tr>\n",
              "</table>\n",
              "<table class=\"simpletable\">\n",
              "<caption>Loading coefficients (alpha) for equation Annual CO2 emissions</caption>\n",
              "<tr>\n",
              "   <td></td>      <th>coef</th>     <th>std err</th>      <th>z</th>      <th>P>|z|</th>  <th>[0.025</th>    <th>0.975]</th>  \n",
              "</tr>\n",
              "<tr>\n",
              "  <th>ec1</th> <td>   -0.0683</td> <td>    0.718</td> <td>   -0.095</td> <td> 0.924</td> <td>   -1.476</td> <td>    1.340</td>\n",
              "</tr>\n",
              "<tr>\n",
              "  <th>ec2</th> <td>   -1.1098</td> <td>    0.776</td> <td>   -1.431</td> <td> 0.152</td> <td>   -2.630</td> <td>    0.410</td>\n",
              "</tr>\n",
              "<tr>\n",
              "  <th>ec3</th> <td>    4.7229</td> <td>    4.260</td> <td>    1.109</td> <td> 0.268</td> <td>   -3.626</td> <td>   13.072</td>\n",
              "</tr>\n",
              "</table>\n",
              "<table class=\"simpletable\">\n",
              "<caption>Cointegration relations for loading-coefficients-column 1</caption>\n",
              "<tr>\n",
              "     <td></td>       <th>coef</th>     <th>std err</th>      <th>z</th>      <th>P>|z|</th>  <th>[0.025</th>    <th>0.975]</th>  \n",
              "</tr>\n",
              "<tr>\n",
              "  <th>beta.1</th> <td>    1.0000</td> <td>        0</td> <td>        0</td> <td> 0.000</td> <td>    1.000</td> <td>    1.000</td>\n",
              "</tr>\n",
              "<tr>\n",
              "  <th>beta.2</th> <td> 2.897e-16</td> <td>        0</td> <td>        0</td> <td> 0.000</td> <td>  2.9e-16</td> <td>  2.9e-16</td>\n",
              "</tr>\n",
              "<tr>\n",
              "  <th>const</th>  <td>-4.835e-16</td> <td>        0</td> <td>        0</td> <td> 0.000</td> <td>-4.84e-16</td> <td>-4.84e-16</td>\n",
              "</tr>\n",
              "</table>\n",
              "<table class=\"simpletable\">\n",
              "<caption>Cointegration relations for loading-coefficients-column 2</caption>\n",
              "<tr>\n",
              "     <td></td>       <th>coef</th>     <th>std err</th>      <th>z</th>      <th>P>|z|</th>  <th>[0.025</th>    <th>0.975]</th>  \n",
              "</tr>\n",
              "<tr>\n",
              "  <th>beta.1</th> <td> 5.623e-16</td> <td>        0</td> <td>        0</td> <td> 0.000</td> <td> 5.62e-16</td> <td> 5.62e-16</td>\n",
              "</tr>\n",
              "<tr>\n",
              "  <th>beta.2</th> <td>    1.0000</td> <td>        0</td> <td>        0</td> <td> 0.000</td> <td>    1.000</td> <td>    1.000</td>\n",
              "</tr>\n",
              "<tr>\n",
              "  <th>const</th>  <td>-8.296e-17</td> <td>        0</td> <td>        0</td> <td> 0.000</td> <td> -8.3e-17</td> <td> -8.3e-17</td>\n",
              "</tr>\n",
              "</table>\n",
              "<table class=\"simpletable\">\n",
              "<caption>Cointegration relations for loading-coefficients-column 3</caption>\n",
              "<tr>\n",
              "     <td></td>       <th>coef</th>     <th>std err</th>      <th>z</th>      <th>P>|z|</th>  <th>[0.025</th>    <th>0.975]</th>  \n",
              "</tr>\n",
              "<tr>\n",
              "  <th>beta.1</th> <td> 4.123e-17</td> <td>        0</td> <td>        0</td> <td> 0.000</td> <td> 4.12e-17</td> <td> 4.12e-17</td>\n",
              "</tr>\n",
              "<tr>\n",
              "  <th>beta.2</th> <td> 9.596e-17</td> <td>        0</td> <td>        0</td> <td> 0.000</td> <td>  9.6e-17</td> <td>  9.6e-17</td>\n",
              "</tr>\n",
              "<tr>\n",
              "  <th>const</th>  <td>    1.0000</td> <td>        0</td> <td>        0</td> <td> 0.000</td> <td>    1.000</td> <td>    1.000</td>\n",
              "</tr>\n",
              "</table>"
            ],
            "text/plain": [
              "<class 'statsmodels.iolib.summary.Summary'>\n",
              "\"\"\"\n",
              "Det. terms outside the coint. relation & lagged endog. parameters for equation Renewables (% growth)\n",
              "============================================================================================\n",
              "                               coef    std err          z      P>|z|      [0.025      0.975]\n",
              "--------------------------------------------------------------------------------------------\n",
              "L1.Renewables (% growth)     2.3452      0.959      2.447      0.014       0.466       4.224\n",
              "L1.Annual CO2 emissions      0.5712      1.118      0.511      0.609      -1.621       2.763\n",
              "L2.Renewables (% growth)     1.8479      0.860      2.148      0.032       0.162       3.534\n",
              "L2.Annual CO2 emissions      0.7730      1.048      0.737      0.461      -1.282       2.828\n",
              "L3.Renewables (% growth)     1.5432      0.738      2.090      0.037       0.096       2.990\n",
              "L3.Annual CO2 emissions      1.0617      0.995      1.067      0.286      -0.888       3.011\n",
              "L4.Renewables (% growth)     1.2874      0.641      2.007      0.045       0.030       2.544\n",
              "L4.Annual CO2 emissions      1.4236      0.894      1.593      0.111      -0.328       3.175\n",
              "L5.Renewables (% growth)     0.9411      0.558      1.687      0.092      -0.152       2.035\n",
              "L5.Annual CO2 emissions      1.6944      0.826      2.051      0.040       0.075       3.314\n",
              "L6.Renewables (% growth)     0.7788      0.471      1.653      0.098      -0.145       1.702\n",
              "L6.Annual CO2 emissions      1.3535      0.721      1.876      0.061      -0.060       2.767\n",
              "L7.Renewables (% growth)     0.3628      0.379      0.956      0.339      -0.381       1.106\n",
              "L7.Annual CO2 emissions      0.7037      0.619      1.138      0.255      -0.509       1.916\n",
              "L8.Renewables (% growth)     0.2337      0.263      0.889      0.374      -0.282       0.749\n",
              "L8.Annual CO2 emissions      0.7490      0.484      1.548      0.122      -0.199       1.697\n",
              "L9.Renewables (% growth)     0.0684      0.182      0.375      0.708      -0.289       0.426\n",
              "L9.Annual CO2 emissions      0.6489      0.345      1.878      0.060      -0.028       1.326\n",
              "Det. terms outside the coint. relation & lagged endog. parameters for equation Annual CO2 emissions\n",
              "============================================================================================\n",
              "                               coef    std err          z      P>|z|      [0.025      0.975]\n",
              "--------------------------------------------------------------------------------------------\n",
              "L1.Renewables (% growth)     0.1722      0.662      0.260      0.795      -1.125       1.470\n",
              "L1.Annual CO2 emissions      0.0224      0.772      0.029      0.977      -1.491       1.536\n",
              "L2.Renewables (% growth)     0.1327      0.594      0.223      0.823      -1.032       1.297\n",
              "L2.Annual CO2 emissions      0.0357      0.724      0.049      0.961      -1.383       1.455\n",
              "L3.Renewables (% growth)     0.0680      0.510      0.133      0.894      -0.931       1.067\n",
              "L3.Annual CO2 emissions      0.2634      0.687      0.383      0.701      -1.083       1.610\n",
              "L4.Renewables (% growth)    -0.0404      0.443     -0.091      0.927      -0.908       0.828\n",
              "L4.Annual CO2 emissions     -0.0058      0.617     -0.009      0.993      -1.215       1.204\n",
              "L5.Renewables (% growth)    -0.0534      0.385     -0.139      0.890      -0.809       0.702\n",
              "L5.Annual CO2 emissions      0.0152      0.571      0.027      0.979      -1.103       1.133\n",
              "L6.Renewables (% growth)     0.0191      0.325      0.059      0.953      -0.619       0.657\n",
              "L6.Annual CO2 emissions     -0.1042      0.498     -0.209      0.834      -1.081       0.872\n",
              "L7.Renewables (% growth)    -0.0043      0.262     -0.017      0.987      -0.518       0.509\n",
              "L7.Annual CO2 emissions     -0.0040      0.427     -0.009      0.992      -0.841       0.833\n",
              "L8.Renewables (% growth)     0.0497      0.182      0.274      0.784      -0.306       0.406\n",
              "L8.Annual CO2 emissions     -0.0216      0.334     -0.065      0.948      -0.676       0.633\n",
              "L9.Renewables (% growth)     0.0564      0.126      0.448      0.654      -0.190       0.303\n",
              "L9.Annual CO2 emissions      0.1734      0.239      0.727      0.467      -0.294       0.641\n",
              "       Loading coefficients (alpha) for equation Renewables (% growth)        \n",
              "==============================================================================\n",
              "                 coef    std err          z      P>|z|      [0.025      0.975]\n",
              "------------------------------------------------------------------------------\n",
              "ec1           -3.5426      1.040     -3.405      0.001      -5.582      -1.503\n",
              "ec2           -0.6909      1.123     -0.615      0.538      -2.892       1.510\n",
              "ec3           19.0990      6.169      3.096      0.002       7.009      31.189\n",
              "        Loading coefficients (alpha) for equation Annual CO2 emissions        \n",
              "==============================================================================\n",
              "                 coef    std err          z      P>|z|      [0.025      0.975]\n",
              "------------------------------------------------------------------------------\n",
              "ec1           -0.0683      0.718     -0.095      0.924      -1.476       1.340\n",
              "ec2           -1.1098      0.776     -1.431      0.152      -2.630       0.410\n",
              "ec3            4.7229      4.260      1.109      0.268      -3.626      13.072\n",
              "          Cointegration relations for loading-coefficients-column 1           \n",
              "==============================================================================\n",
              "                 coef    std err          z      P>|z|      [0.025      0.975]\n",
              "------------------------------------------------------------------------------\n",
              "beta.1         1.0000          0          0      0.000       1.000       1.000\n",
              "beta.2      2.897e-16          0          0      0.000     2.9e-16     2.9e-16\n",
              "const      -4.835e-16          0          0      0.000   -4.84e-16   -4.84e-16\n",
              "          Cointegration relations for loading-coefficients-column 2           \n",
              "==============================================================================\n",
              "                 coef    std err          z      P>|z|      [0.025      0.975]\n",
              "------------------------------------------------------------------------------\n",
              "beta.1      5.623e-16          0          0      0.000    5.62e-16    5.62e-16\n",
              "beta.2         1.0000          0          0      0.000       1.000       1.000\n",
              "const      -8.296e-17          0          0      0.000    -8.3e-17    -8.3e-17\n",
              "          Cointegration relations for loading-coefficients-column 3           \n",
              "==============================================================================\n",
              "                 coef    std err          z      P>|z|      [0.025      0.975]\n",
              "------------------------------------------------------------------------------\n",
              "beta.1      4.123e-17          0          0      0.000    4.12e-17    4.12e-17\n",
              "beta.2      9.596e-17          0          0      0.000     9.6e-17     9.6e-17\n",
              "const          1.0000          0          0      0.000       1.000       1.000\n",
              "==============================================================================\n",
              "\"\"\""
            ]
          },
          "metadata": {},
          "execution_count": 62
        }
      ]
    },
    {
      "cell_type": "code",
      "source": [
        "vecm_res.alpha"
      ],
      "metadata": {
        "colab": {
          "base_uri": "https://localhost:8080/"
        },
        "id": "63Z1jr2PlKUj",
        "outputId": "f9a9737c-9d5e-4f4a-934a-2369d829eefd"
      },
      "execution_count": null,
      "outputs": [
        {
          "output_type": "execute_result",
          "data": {
            "text/plain": [
              "array([[-3.54260365, -0.69086647, 19.09897843],\n",
              "       [-0.06826415, -1.10983717,  4.72293242]])"
            ]
          },
          "metadata": {},
          "execution_count": 63
        }
      ]
    },
    {
      "cell_type": "code",
      "source": [
        "vecm_res.stderr_alpha"
      ],
      "metadata": {
        "colab": {
          "base_uri": "https://localhost:8080/"
        },
        "id": "a4PWhtjPlRaW",
        "outputId": "c4152730-8c05-4d2f-955d-e650271f97b2"
      },
      "execution_count": null,
      "outputs": [
        {
          "output_type": "execute_result",
          "data": {
            "text/plain": [
              "array([[1.04041206, 1.12314498, 6.16867168],\n",
              "       [0.71845592, 0.77558709, 4.25977252]])"
            ]
          },
          "metadata": {},
          "execution_count": 64
        }
      ]
    },
    {
      "cell_type": "code",
      "source": [
        "# vecm forecast\n",
        "forecast, lower, upper = vecm_fit.predict(10, 0.05)\n",
        "print('lower bounds of confidence intervals:')\n",
        "print(lower.round(3))\n",
        "print('\\npoint forecasts:')\n",
        "print(forecast.round(3))\n",
        "print('\\nupper bounds of confidence intervals:')\n",
        "print(upper.round(3))"
      ],
      "metadata": {
        "colab": {
          "base_uri": "https://localhost:8080/"
        },
        "id": "npt6YU_LZvHp",
        "outputId": "876c4166-d2da-408e-97e0-92b7759fbc1c"
      },
      "execution_count": null,
      "outputs": [
        {
          "output_type": "stream",
          "name": "stdout",
          "text": [
            "lower bounds of confidence intervals:\n",
            "[[  0.023  -0.643]\n",
            " [  1.131  -2.562]\n",
            " [ -5.105   1.809]\n",
            " [ -8.035   1.66 ]\n",
            " [ -7.408  -5.531]\n",
            " [  0.347  -5.599]\n",
            " [  0.037  -0.891]\n",
            " [-10.312  -4.199]\n",
            " [ -8.815  -5.984]\n",
            " [ -1.149   0.284]]\n",
            "\n",
            "point forecasts:\n",
            "[[ 6.718  3.42 ]\n",
            " [ 8.578  1.701]\n",
            " [ 2.413  6.276]\n",
            " [-0.383  6.2  ]\n",
            " [ 0.616 -0.958]\n",
            " [ 9.605 -0.527]\n",
            " [ 9.509  4.591]\n",
            " [-0.48   1.357]\n",
            " [ 1.027 -0.424]\n",
            " [ 8.799  6.181]]\n",
            "\n",
            "upper bounds of confidence intervals:\n",
            "[[13.413  7.483]\n",
            " [16.025  5.964]\n",
            " [ 9.932 10.743]\n",
            " [ 7.269 10.74 ]\n",
            " [ 8.64   3.614]\n",
            " [18.863  4.545]\n",
            " [18.981 10.073]\n",
            " [ 9.352  6.913]\n",
            " [10.87   5.136]\n",
            " [18.747 12.079]]\n"
          ]
        }
      ]
    },
    {
      "cell_type": "code",
      "source": [
        "\n",
        "#vecm forecast evaluation\n",
        "vecm_res.predict(steps=5)"
      ],
      "metadata": {
        "id": "Sg8Ocj05aOWO",
        "colab": {
          "base_uri": "https://localhost:8080/"
        },
        "outputId": "e0b8a20a-824e-43ce-f098-14d0344b8034"
      },
      "execution_count": null,
      "outputs": [
        {
          "output_type": "execute_result",
          "data": {
            "text/plain": [
              "array([[-6.03944308,  4.38589294],\n",
              "       [-5.79474788,  0.94367394],\n",
              "       [18.01568965, 10.09783771],\n",
              "       [ 9.4403876 ,  3.60155178],\n",
              "       [ 9.4596825 ,  4.1300136 ]])"
            ]
          },
          "metadata": {},
          "execution_count": 66
        }
      ]
    },
    {
      "cell_type": "code",
      "source": [
        "vecm_res.predict(steps=5, alpha=0.05)\n",
        "for text, vaĺues in zip((\"forecast\", \"lower\", \"upper\"), vecm_res.predict(steps=5, alpha=0.05)):\n",
        "    print(text+\":\", vaĺues, sep=\"\\n\")"
      ],
      "metadata": {
        "colab": {
          "base_uri": "https://localhost:8080/"
        },
        "id": "InxrIQhClx18",
        "outputId": "40b0e237-b962-44da-d2de-a957941f95a0"
      },
      "execution_count": null,
      "outputs": [
        {
          "output_type": "stream",
          "name": "stdout",
          "text": [
            "forecast:\n",
            "[[-6.03944308  4.38589294]\n",
            " [-5.79474788  0.94367394]\n",
            " [18.01568965 10.09783771]\n",
            " [ 9.4403876   3.60155178]\n",
            " [ 9.4596825   4.1300136 ]]\n",
            "lower:\n",
            "[[-15.64420256  -2.24666793]\n",
            " [-15.67275969  -5.75720269]\n",
            " [  7.27769549   3.3659337 ]\n",
            " [ -1.43959619  -3.31993056]\n",
            " [ -1.5384056   -3.11096851]]\n",
            "upper:\n",
            "[[ 3.5653164  11.01845381]\n",
            " [ 4.08326394  7.64455057]\n",
            " [28.7536838  16.82974172]\n",
            " [20.32037139 10.52303411]\n",
            " [20.45777059 11.37099571]]\n"
          ]
        }
      ]
    },
    {
      "cell_type": "code",
      "source": [
        "vecm_res.plot_forecast(steps=5, plot_conf_int=False)"
      ],
      "metadata": {
        "colab": {
          "base_uri": "https://localhost:8080/",
          "height": 607
        },
        "id": "3Wlg8PlBl94U",
        "outputId": "e6aca89c-8bd8-4d54-fb3a-6cd68f1afb3d"
      },
      "execution_count": null,
      "outputs": [
        {
          "output_type": "display_data",
          "data": {
            "image/png": "[encoded data removed]",
            "text/plain": [
              "<Figure size 720x720 with 2 Axes>"
            ]
          },
          "metadata": {
            "needs_background": "light"
          }
        }
      ]
    },
    {
      "cell_type": "code",
      "source": [
        "vecm_res.plot_forecast(steps=5, n_last_obs=12)"
      ],
      "metadata": {
        "colab": {
          "base_uri": "https://localhost:8080/",
          "height": 607
        },
        "id": "bCFNLt43nMKz",
        "outputId": "1af4e0bf-9b61-45fc-e3bc-2c8a666e4b75"
      },
      "execution_count": null,
      "outputs": [
        {
          "output_type": "display_data",
          "data": {
            "image/png": "[encoded data removed]",
            "text/plain": [
              "<Figure size 720x720 with 2 Axes>"
            ]
          },
          "metadata": {
            "needs_background": "light"
          }
        }
      ]
    }
  ]
}