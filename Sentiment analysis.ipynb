{
 "cells": [
  {
   "cell_type": "code",
   "execution_count": null,
   "id": "a0f8faef",
   "metadata": {},
   "outputs": [],
   "source": [
    "#loading the necessary datasets for use in this analysis\n",
    "import pandas as pd\n",
    "import matplotlib.pyplot as plt\n",
    "import seaborn as sns\n",
    "%matplotlib inline \n",
    "color=sns.color_palette()\n",
    "import plotly.offline as py\n",
    "py.init_notebook_mode(connected=True)\n",
    "import plotly.graph_objs as go\n",
    "import plotly.tools as tls\n",
    "import plotly.express as px"
   ]
  },
  {
   "cell_type": "code",
   "execution_count": null,
   "id": "18b2d07d",
   "metadata": {},
   "outputs": [],
   "source": [
    "data=pd.read_csv('Reviews.csv')"
   ]
  },
  {
   "cell_type": "markdown",
   "id": "51bf76f5",
   "metadata": {},
   "source": [
    "#### Exploration Data Analyis of the reviews dataset"
   ]
  },
  {
   "cell_type": "code",
   "execution_count": null,
   "id": "9efa972c",
   "metadata": {},
   "outputs": [],
   "source": [
    "data.head()"
   ]
  },
  {
   "cell_type": "markdown",
   "id": "20a820df",
   "metadata": {},
   "source": [
    "The data that will be used for this analysis will be :\n",
    "1. score - contains the product rating provided by the customer\n",
    "2. Summary- contains summary of the entire review\n",
    "3. Text - contains the product review information"
   ]
  },
  {
   "cell_type": "code",
   "execution_count": null,
   "id": "c37b73f3",
   "metadata": {},
   "outputs": [],
   "source": [
    "#product scores\n",
    "fig=px.histogram(data,x='Score')\n",
    "fig.update_traces(marker_color='turquoise',marker_line_color='rgb(8,48,107)',marker_line_width=1.5)\n",
    "fig.update_layout(title_text='Product Score')\n",
    "fig.show()"
   ]
  },
  {
   "cell_type": "markdown",
   "id": "35a8b5fb",
   "metadata": {},
   "source": [
    "from the above histogram we can see that most of the customer score review is positive"
   ]
  },
  {
   "cell_type": "code",
   "execution_count": null,
   "id": "3ffb0bdf",
   "metadata": {},
   "outputs": [],
   "source": [
    "#creating a word cloud\n",
    "import re\n",
    "import nltk\n",
    "nltk.download()\n",
    "from nltk.corpus import stopwords"
   ]
  },
  {
   "cell_type": "code",
   "execution_count": null,
   "id": "c6054e03",
   "metadata": {},
   "outputs": [],
   "source": [
    "set(stopwords.words('english'))"
   ]
  },
  {
   "cell_type": "code",
   "execution_count": null,
   "id": "d7eb2b87",
   "metadata": {},
   "outputs": [],
   "source": [
    "stopwords = set(STOPWORDS)\n",
    "stopwords.update([\"br\", \"href\"])\n",
    "textt = \" \".join(review for review in data.Text)\n",
    "wordcloud = WordCloud(stopwords=stopwords).generate(textt)\n",
    "plt.imshow(wordcloud, interpolation='bilinear')\n",
    "plt.axis(\"off\")\n",
    "plt.savefig('wordcloud11.png')\n",
    "plt.show()"
   ]
  },
  {
   "cell_type": "code",
   "execution_count": null,
   "id": "625ff17f",
   "metadata": {},
   "outputs": [],
   "source": [
    "#classifying tweets\n",
    "# assign reviews with score > 3 as positive sentiment\n",
    "# score < 3 negative sentiment\n",
    "# remove score = 3\n",
    "data = data[data['Score'] != 3]\n",
    "data['sentiment'] = data['Score'].apply(lambda rating : +1 if rating > 3 else -1)"
   ]
  },
  {
   "cell_type": "code",
   "execution_count": null,
   "id": "6bfba7d7",
   "metadata": {},
   "outputs": [],
   "source": [
    "data.head()"
   ]
  },
  {
   "cell_type": "code",
   "execution_count": null,
   "id": "e50d9e61",
   "metadata": {},
   "outputs": [],
   "source": [
    "# split data - positive and negative sentiment:\n",
    "positive = data[data['sentiment'] == 1]\n",
    "negative = data[data['sentiment'] == -1]"
   ]
  },
  {
   "cell_type": "code",
   "execution_count": null,
   "id": "7f304870",
   "metadata": {},
   "outputs": [],
   "source": [
    "#word cloud positive sentiments\n",
    "stopwords = set(STOPWORDS)\n",
    "stopwords.update([\"br\", \"href\",\"good\",\"great\"]) \n",
    "## good and great removed because they were included in negative sentiment\n",
    "pos = \" \".join(review for review in positive.Summary)\n",
    "wordcloud2 = WordCloud(stopwords=stopwords).generate(pos)\n",
    "plt.imshow(wordcloud2, interpolation='bilinear')\n",
    "plt.axis(\"off\")\n",
    "plt.show()"
   ]
  },
  {
   "cell_type": "code",
   "execution_count": null,
   "id": "ef346109",
   "metadata": {},
   "outputs": [],
   "source": [
    "from nltk.corpus import brown"
   ]
  },
  {
   "cell_type": "code",
   "execution_count": null,
   "id": "3eab7f73",
   "metadata": {},
   "outputs": [],
   "source": [
    "brown.categories()"
   ]
  },
  {
   "cell_type": "code",
   "execution_count": null,
   "id": "e371c01c",
   "metadata": {},
   "outputs": [],
   "source": []
  }
 ],
 "metadata": {
  "kernelspec": {
   "display_name": "Python 3",
   "language": "python",
   "name": "python3"
  },
  "language_info": {
   "codemirror_mode": {
    "name": "ipython",
    "version": 3
   },
   "file_extension": ".py",
   "mimetype": "text/x-python",
   "name": "python",
   "nbconvert_exporter": "python",
   "pygments_lexer": "ipython3",
   "version": "3.8.8"
  }
 },
 "nbformat": 4,
 "nbformat_minor": 5
}
